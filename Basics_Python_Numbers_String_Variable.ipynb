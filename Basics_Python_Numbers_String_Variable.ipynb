{
 "cells": [
  {
   "cell_type": "code",
   "execution_count": 1,
   "metadata": {},
   "outputs": [
    {
     "name": "stdout",
     "output_type": "stream",
     "text": [
      "<class 'int'>\n",
      "<class 'str'> <class 'float'> <class 'bool'>\n"
     ]
    }
   ],
   "source": [
    "num=20\n",
    "name=\"Virpal\"\n",
    "flt=5.7\n",
    "female=True\n",
    "print(type(num))\n",
    "print(type(name),type(flt),type(female))"
   ]
  },
  {
   "cell_type": "code",
   "execution_count": 2,
   "metadata": {},
   "outputs": [
    {
     "name": "stdout",
     "output_type": "stream",
     "text": [
      "VirpalKaur\n",
      "Virpal\tKaur\n",
      "Virpal Kaur\n"
     ]
    }
   ],
   "source": [
    "first_name=\"Virpal\"\n",
    "last_name=\"Kaur\"\n",
    "print(first_name+last_name)        #Print without Name\n",
    "print(first_name+\"\\tKaur\")         #Print with 2 spaces\n",
    "print(first_name+\" \"+last_name)    #Print with one space\n"
   ]
  },
  {
   "cell_type": "code",
   "execution_count": 3,
   "metadata": {},
   "outputs": [
    {
     "name": "stdout",
     "output_type": "stream",
     "text": [
      "60\n",
      "800\n",
      "The division is: 0.5\n",
      "The subtraction is: -20\n"
     ]
    }
   ],
   "source": [
    "num1=20\n",
    "num2=40\n",
    "print(num1+num2)\n",
    "print(num1*num2)\n",
    "print(\"The division is:\",num1/num2)\n",
    "print(\"The subtraction is:\",num1-num2)\n"
   ]
  },
  {
   "cell_type": "code",
   "execution_count": 4,
   "metadata": {},
   "outputs": [
    {
     "name": "stdout",
     "output_type": "stream",
     "text": [
      "After swaping a= 60 b= 50\n"
     ]
    }
   ],
   "source": [
    "a=50\n",
    "b=60\n",
    "a,b=b,a\n",
    "print(\"After swaping a= \"+str(a)+\" b= \"+str(b))"
   ]
  },
  {
   "cell_type": "code",
   "execution_count": 5,
   "metadata": {},
   "outputs": [
    {
     "name": "stdout",
     "output_type": "stream",
     "text": [
      "Python 3 is Awsome\n",
      "Python is awsome,\n",
      "it has great applications,\n",
      "love python\n"
     ]
    }
   ],
   "source": [
    "quote=\"Python 3 is Awsome\"\n",
    "print(quote)\n",
    "\n",
    "quote='''Python is awsome,\n",
    "it has great applications,\n",
    "love python'''                    #Multilinear ('''''')string.\n",
    "print(quote)\n"
   ]
  },
  {
   "cell_type": "code",
   "execution_count": 6,
   "metadata": {},
   "outputs": [
    {
     "name": "stdout",
     "output_type": "stream",
     "text": [
      "12\n",
      "30\n"
     ]
    }
   ],
   "source": [
    "# A variable name must start with a letter of the underscore character(a,_a)\n",
    "#vaiable name should not be started with a number or should not be contains special characters except underscore (_)\n",
    "ab=12\n",
    "_a=30\n",
    "print(ab)\n",
    "print(_a)\n"
   ]
  },
  {
   "cell_type": "code",
   "execution_count": 7,
   "metadata": {},
   "outputs": [
    {
     "ename": "SyntaxError",
     "evalue": "unexpected EOF while parsing (<ipython-input-7-d3b910d0350f>, line 4)",
     "output_type": "error",
     "traceback": [
      "\u001b[1;36m  File \u001b[1;32m\"<ipython-input-7-d3b910d0350f>\"\u001b[1;36m, line \u001b[1;32m4\u001b[0m\n\u001b[1;33m    \u001b[0m\n\u001b[1;37m    ^\u001b[0m\n\u001b[1;31mSyntaxError\u001b[0m\u001b[1;31m:\u001b[0m unexpected EOF while parsing\n"
     ]
    }
   ],
   "source": [
    "#a=20\n",
    "print(#a)    # It will give Error.\n",
    "             #vaiable name should not be started with a number or should not be containsspecial characters except underscore(_).\n",
    "                                      "
   ]
  },
  {
   "cell_type": "code",
   "execution_count": 8,
   "metadata": {},
   "outputs": [
    {
     "name": "stdout",
     "output_type": "stream",
     "text": [
      "['False', 'None', 'True', 'and', 'as', 'assert', 'async', 'await', 'break', 'class', 'continue', 'def', 'del', 'elif', 'else', 'except', 'finally', 'for', 'from', 'global', 'if', 'import', 'in', 'is', 'lambda', 'nonlocal', 'not', 'or', 'pass', 'raise', 'return', 'try', 'while', 'with', 'yield']\n"
     ]
    }
   ],
   "source": [
    "import keyword       \n",
    "print(keyword.kwlist)"
   ]
  },
  {
   "cell_type": "code",
   "execution_count": 9,
   "metadata": {},
   "outputs": [],
   "source": [
    "#Python is a case senstive language. Below mentiond all variables are different.\n",
    "age=25\n",
    "Age=30\n",
    "AGE=46"
   ]
  },
  {
   "cell_type": "code",
   "execution_count": 10,
   "metadata": {},
   "outputs": [
    {
     "name": "stdout",
     "output_type": "stream",
     "text": [
      "Enter you first name: Virpal\n",
      "Enter you last name: Kaur\n",
      "Virpal Kaur\n"
     ]
    }
   ],
   "source": [
    "#User input\n",
    "fst_name=input(\"Enter you first name: \")\n",
    "lst_name=input(\"Enter you last name: \")\n",
    "print(fst_name,lst_name)"
   ]
  },
  {
   "cell_type": "code",
   "execution_count": null,
   "metadata": {},
   "outputs": [],
   "source": []
  }
 ],
 "metadata": {
  "kernelspec": {
   "display_name": "Python 3",
   "language": "python",
   "name": "python3"
  },
  "language_info": {
   "codemirror_mode": {
    "name": "ipython",
    "version": 3
   },
   "file_extension": ".py",
   "mimetype": "text/x-python",
   "name": "python",
   "nbconvert_exporter": "python",
   "pygments_lexer": "ipython3",
   "version": "3.7.3"
  }
 },
 "nbformat": 4,
 "nbformat_minor": 2
}
